{
 "cells": [
  {
   "cell_type": "markdown",
   "metadata": {},
   "source": [
    "### coldchain\n"
   ]
  },
  {
   "cell_type": "code",
   "execution_count": 1,
   "metadata": {},
   "outputs": [],
   "source": [
    "import pandas as pd\n",
    "\n",
    "cpp = pd.read_excel('S:/Hackathons/EY/datasets/coldchain/cold chain points.xlsx')\n",
    "cce = pd.read_excel('S:/Hackathons/EY/datasets/coldchain/Cold Chain equipment per lakh population.xlsx')"
   ]
  },
  {
   "cell_type": "code",
   "execution_count": null,
   "metadata": {},
   "outputs": [],
   "source": []
  },
  {
   "cell_type": "code",
   "execution_count": 2,
   "metadata": {},
   "outputs": [],
   "source": [
    "cold_data = pd.read_excel('S:/Hackathons/EY/datasets/coldchain/cold_data.xlsx')"
   ]
  },
  {
   "cell_type": "code",
   "execution_count": null,
   "metadata": {},
   "outputs": [],
   "source": [
    "cold_data.to_csv('S:/Hackathons/EY/datasets/selected/cold_data.csv',index = False)"
   ]
  },
  {
   "cell_type": "code",
   "execution_count": null,
   "metadata": {},
   "outputs": [],
   "source": [
    "cold_data.head()"
   ]
  },
  {
   "cell_type": "markdown",
   "metadata": {},
   "source": [
    "Table 20: Space assumptions for analysis Equipment Net storage space assumed\n",
    "\n",
    "\n",
    "WIC 40 m3* 12,000 litres\n",
    "\n",
    "WIC 32 m3 9,000 litres        \n",
    "\n",
    "WIC 16.5 m3 4,500 litres\n",
    "\n",
    "WIF 32 m3 9,000 litres\n",
    "\n",
    "WIF 20 m3 6,000 litres\n",
    "\n",
    "WIF 16.5 m3 4,500 litres\n",
    "\n",
    "ILR (large) 105 litres\n",
    "\n",
    "DF (large) 220 litres\n",
    "\n",
    "ILR (small) 45 litres\n",
    "\n",
    "DF (small) 80 litres\n"
   ]
  },
  {
   "cell_type": "code",
   "execution_count": 4,
   "metadata": {},
   "outputs": [],
   "source": [
    "cold_data['Walk in Coolers'] = cold_data['Walk in Coolers']*8000 \n",
    "cold_data['Walk in Freezers'] = cold_data['Walk in Freezers']*6100 \n",
    "cold_data['Ice Lined Refrigerator'] = cold_data['Ice Lined Refrigerator']*75\n",
    "cold_data['Deep Freezers'] = cold_data['Deep Freezers']*150\n",
    "cold_data['Solar Units'] = cold_data['Solar Units']*150"
   ]
  },
  {
   "cell_type": "code",
   "execution_count": 5,
   "metadata": {},
   "outputs": [],
   "source": [
    "cold_data['cap_lit'] = cold_data['Walk in Coolers'] +cold_data['Walk in Freezers']+cold_data['Ice Lined Refrigerator'] +cold_data['Solar Units']+cold_data['Deep Freezers']"
   ]
  },
  {
   "cell_type": "code",
   "execution_count": 6,
   "metadata": {},
   "outputs": [
    {
     "data": {
      "text/html": [
       "<div>\n",
       "<style scoped>\n",
       "    .dataframe tbody tr th:only-of-type {\n",
       "        vertical-align: middle;\n",
       "    }\n",
       "\n",
       "    .dataframe tbody tr th {\n",
       "        vertical-align: top;\n",
       "    }\n",
       "\n",
       "    .dataframe thead th {\n",
       "        text-align: right;\n",
       "    }\n",
       "</style>\n",
       "<table border=\"1\" class=\"dataframe\">\n",
       "  <thead>\n",
       "    <tr style=\"text-align: right;\">\n",
       "      <th></th>\n",
       "      <th>state</th>\n",
       "      <th>Cold Chain Points</th>\n",
       "      <th>Walk in Coolers</th>\n",
       "      <th>Walk in Freezers</th>\n",
       "      <th>Ice Lined Refrigerator</th>\n",
       "      <th>Deep Freezers</th>\n",
       "      <th>Solar Units</th>\n",
       "      <th>cap_lit</th>\n",
       "    </tr>\n",
       "  </thead>\n",
       "  <tbody>\n",
       "    <tr>\n",
       "      <th>0</th>\n",
       "      <td>Andaman and Nicobar Islands</td>\n",
       "      <td>40</td>\n",
       "      <td>8000</td>\n",
       "      <td>0</td>\n",
       "      <td>3975</td>\n",
       "      <td>8400</td>\n",
       "      <td>900</td>\n",
       "      <td>21275</td>\n",
       "    </tr>\n",
       "    <tr>\n",
       "      <th>1</th>\n",
       "      <td>Andhra Pradesh</td>\n",
       "      <td>1650</td>\n",
       "      <td>72000</td>\n",
       "      <td>36600</td>\n",
       "      <td>173025</td>\n",
       "      <td>316350</td>\n",
       "      <td>0</td>\n",
       "      <td>597975</td>\n",
       "    </tr>\n",
       "    <tr>\n",
       "      <th>2</th>\n",
       "      <td>Arunachal Pradesh</td>\n",
       "      <td>193</td>\n",
       "      <td>16000</td>\n",
       "      <td>0</td>\n",
       "      <td>21150</td>\n",
       "      <td>37350</td>\n",
       "      <td>7350</td>\n",
       "      <td>81850</td>\n",
       "    </tr>\n",
       "    <tr>\n",
       "      <th>3</th>\n",
       "      <td>Assam</td>\n",
       "      <td>792</td>\n",
       "      <td>40000</td>\n",
       "      <td>12200</td>\n",
       "      <td>88950</td>\n",
       "      <td>154950</td>\n",
       "      <td>3900</td>\n",
       "      <td>300000</td>\n",
       "    </tr>\n",
       "    <tr>\n",
       "      <th>4</th>\n",
       "      <td>Bihar</td>\n",
       "      <td>678</td>\n",
       "      <td>152000</td>\n",
       "      <td>24400</td>\n",
       "      <td>124125</td>\n",
       "      <td>139650</td>\n",
       "      <td>750</td>\n",
       "      <td>440925</td>\n",
       "    </tr>\n",
       "  </tbody>\n",
       "</table>\n",
       "</div>"
      ],
      "text/plain": [
       "                         state  Cold Chain Points  Walk in Coolers  \\\n",
       "0  Andaman and Nicobar Islands                 40             8000   \n",
       "1               Andhra Pradesh               1650            72000   \n",
       "2            Arunachal Pradesh                193            16000   \n",
       "3                        Assam                792            40000   \n",
       "4                        Bihar                678           152000   \n",
       "\n",
       "   Walk in Freezers  Ice Lined Refrigerator  Deep Freezers  Solar Units  \\\n",
       "0                 0                    3975           8400          900   \n",
       "1             36600                  173025         316350            0   \n",
       "2                 0                   21150          37350         7350   \n",
       "3             12200                   88950         154950         3900   \n",
       "4             24400                  124125         139650          750   \n",
       "\n",
       "   cap_lit  \n",
       "0    21275  \n",
       "1   597975  \n",
       "2    81850  \n",
       "3   300000  \n",
       "4   440925  "
      ]
     },
     "execution_count": 6,
     "metadata": {},
     "output_type": "execute_result"
    }
   ],
   "source": [
    "cold_data.head()"
   ]
  },
  {
   "cell_type": "code",
   "execution_count": 7,
   "metadata": {},
   "outputs": [
    {
     "data": {
      "text/plain": [
       "Index(['state', 'Cold Chain Points', 'Walk in Coolers', 'Walk in Freezers',\n",
       "       'Ice Lined Refrigerator', 'Deep Freezers', 'Solar Units', 'cap_lit'],\n",
       "      dtype='object')"
      ]
     },
     "execution_count": 7,
     "metadata": {},
     "output_type": "execute_result"
    }
   ],
   "source": [
    "cold_data.columns"
   ]
  },
  {
   "cell_type": "code",
   "execution_count": 8,
   "metadata": {},
   "outputs": [],
   "source": [
    "cold_data.drop(columns = ['Walk in Coolers', 'Walk in Freezers', 'Ice Lined Refrigerator', 'Deep Freezers', 'Solar Units'],inplace = True)\n",
    "\n",
    "cold_data.to_csv('S:/Hackathons/EY/datasets/selected/cold_data.csv',index = False)"
   ]
  },
  {
   "cell_type": "markdown",
   "metadata": {},
   "source": [
    "# For Visualization"
   ]
  },
  {
   "cell_type": "code",
   "execution_count": 3,
   "metadata": {},
   "outputs": [],
   "source": [
    "import pandas as pd\n",
    "\n",
    "cpp = pd.read_excel('S:/Hackathons/EY/datasets/coldchain/cold chain points.xlsx')\n",
    "cce = pd.read_excel('S:/Hackathons/EY/datasets/coldchain/Cold Chain equipment per lakh population.xlsx')"
   ]
  },
  {
   "cell_type": "code",
   "execution_count": 4,
   "metadata": {},
   "outputs": [
    {
     "data": {
      "text/html": [
       "<div>\n",
       "<style scoped>\n",
       "    .dataframe tbody tr th:only-of-type {\n",
       "        vertical-align: middle;\n",
       "    }\n",
       "\n",
       "    .dataframe tbody tr th {\n",
       "        vertical-align: top;\n",
       "    }\n",
       "\n",
       "    .dataframe thead th {\n",
       "        text-align: right;\n",
       "    }\n",
       "</style>\n",
       "<table border=\"1\" class=\"dataframe\">\n",
       "  <thead>\n",
       "    <tr style=\"text-align: right;\">\n",
       "      <th></th>\n",
       "      <th>state</th>\n",
       "      <th>Total population(lks)</th>\n",
       "      <th>Total number of CCE</th>\n",
       "      <th>Total number of CCP</th>\n",
       "      <th>CCE per lakh population</th>\n",
       "      <th>CCE per CCP</th>\n",
       "    </tr>\n",
       "  </thead>\n",
       "  <tbody>\n",
       "    <tr>\n",
       "      <th>0</th>\n",
       "      <td>Andaman and Nicobar Islands</td>\n",
       "      <td>379944.0</td>\n",
       "      <td>75.0</td>\n",
       "      <td>44</td>\n",
       "      <td>19.000000</td>\n",
       "      <td>2.000000</td>\n",
       "    </tr>\n",
       "    <tr>\n",
       "      <th>1</th>\n",
       "      <td>Andhra Pradesh</td>\n",
       "      <td>42332781.5</td>\n",
       "      <td>1599.5</td>\n",
       "      <td>1117</td>\n",
       "      <td>3.782506</td>\n",
       "      <td>1.432408</td>\n",
       "    </tr>\n",
       "    <tr>\n",
       "      <th>2</th>\n",
       "      <td>Telangana</td>\n",
       "      <td>42332781.5</td>\n",
       "      <td>1599.5</td>\n",
       "      <td>1117</td>\n",
       "      <td>3.782506</td>\n",
       "      <td>1.432408</td>\n",
       "    </tr>\n",
       "    <tr>\n",
       "      <th>3</th>\n",
       "      <td>Arunachal Pradesh</td>\n",
       "      <td>1382611.0</td>\n",
       "      <td>393.0</td>\n",
       "      <td>164</td>\n",
       "      <td>28.000000</td>\n",
       "      <td>2.000000</td>\n",
       "    </tr>\n",
       "    <tr>\n",
       "      <th>4</th>\n",
       "      <td>Assam</td>\n",
       "      <td>31169272.0</td>\n",
       "      <td>2120.0</td>\n",
       "      <td>801</td>\n",
       "      <td>7.000000</td>\n",
       "      <td>3.000000</td>\n",
       "    </tr>\n",
       "  </tbody>\n",
       "</table>\n",
       "</div>"
      ],
      "text/plain": [
       "                         state  Total population(lks)  Total number of CCE  \\\n",
       "0  Andaman and Nicobar Islands               379944.0                 75.0   \n",
       "1               Andhra Pradesh             42332781.5               1599.5   \n",
       "2                    Telangana             42332781.5               1599.5   \n",
       "3            Arunachal Pradesh              1382611.0                393.0   \n",
       "4                        Assam             31169272.0               2120.0   \n",
       "\n",
       "   Total number of CCP  CCE per lakh population  CCE per CCP  \n",
       "0                   44                19.000000     2.000000  \n",
       "1                 1117                 3.782506     1.432408  \n",
       "2                 1117                 3.782506     1.432408  \n",
       "3                  164                28.000000     2.000000  \n",
       "4                  801                 7.000000     3.000000  "
      ]
     },
     "execution_count": 4,
     "metadata": {},
     "output_type": "execute_result"
    }
   ],
   "source": [
    "cce.head()"
   ]
  },
  {
   "cell_type": "code",
   "execution_count": 5,
   "metadata": {},
   "outputs": [],
   "source": [
    "cce['Total population(lks)'] = cce['Total population(lks)'] *1.1"
   ]
  },
  {
   "cell_type": "code",
   "execution_count": 11,
   "metadata": {},
   "outputs": [],
   "source": [
    "cce.to_csv('S:/Hackathons/EY/datasets/coldchain/ccee_vis.csv',index = False)"
   ]
  },
  {
   "cell_type": "code",
   "execution_count": null,
   "metadata": {},
   "outputs": [],
   "source": []
  }
 ],
 "metadata": {
  "kernelspec": {
   "display_name": "Python 3",
   "language": "python",
   "name": "python3"
  },
  "language_info": {
   "codemirror_mode": {
    "name": "ipython",
    "version": 3
   },
   "file_extension": ".py",
   "mimetype": "text/x-python",
   "name": "python",
   "nbconvert_exporter": "python",
   "pygments_lexer": "ipython3",
   "version": "3.8.5"
  }
 },
 "nbformat": 4,
 "nbformat_minor": 4
}
