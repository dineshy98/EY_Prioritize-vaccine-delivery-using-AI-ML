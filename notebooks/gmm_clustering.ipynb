{
 "cells": [
  {
   "cell_type": "code",
   "execution_count": 1,
   "metadata": {},
   "outputs": [],
   "source": [
    "\n",
    "import pandas as pd\n",
    "import numpy as np\n",
    "import matplotlib.pyplot as plt\n",
    "import seaborn as sns\n",
    "from sklearn.mixture import GaussianMixture \n",
    "\n",
    "dist_covid_index = pd.read_csv('S:/Hackathons/EY/results/dist_covid_index.csv')\n",
    "X = dist_covid_index[['covid_index','dist_index']]\n",
    "X = X.values\n"
   ]
  },
  {
   "cell_type": "code",
   "execution_count": 9,
   "metadata": {},
   "outputs": [
    {
     "data": {
      "text/html": [
       "<div>\n",
       "<style scoped>\n",
       "    .dataframe tbody tr th:only-of-type {\n",
       "        vertical-align: middle;\n",
       "    }\n",
       "\n",
       "    .dataframe tbody tr th {\n",
       "        vertical-align: top;\n",
       "    }\n",
       "\n",
       "    .dataframe thead th {\n",
       "        text-align: right;\n",
       "    }\n",
       "</style>\n",
       "<table border=\"1\" class=\"dataframe\">\n",
       "  <thead>\n",
       "    <tr style=\"text-align: right;\">\n",
       "      <th></th>\n",
       "      <th>bic</th>\n",
       "      <th>clusters</th>\n",
       "    </tr>\n",
       "  </thead>\n",
       "  <tbody>\n",
       "    <tr>\n",
       "      <th>0</th>\n",
       "      <td>3965.475910</td>\n",
       "      <td>1</td>\n",
       "    </tr>\n",
       "    <tr>\n",
       "      <th>1</th>\n",
       "      <td>6377.343501</td>\n",
       "      <td>2</td>\n",
       "    </tr>\n",
       "    <tr>\n",
       "      <th>2</th>\n",
       "      <td>6684.900243</td>\n",
       "      <td>3</td>\n",
       "    </tr>\n",
       "    <tr>\n",
       "      <th>3</th>\n",
       "      <td>6932.000837</td>\n",
       "      <td>4</td>\n",
       "    </tr>\n",
       "    <tr>\n",
       "      <th>4</th>\n",
       "      <td>6992.000432</td>\n",
       "      <td>5</td>\n",
       "    </tr>\n",
       "    <tr>\n",
       "      <th>5</th>\n",
       "      <td>6990.078211</td>\n",
       "      <td>6</td>\n",
       "    </tr>\n",
       "    <tr>\n",
       "      <th>6</th>\n",
       "      <td>6989.987597</td>\n",
       "      <td>7</td>\n",
       "    </tr>\n",
       "  </tbody>\n",
       "</table>\n",
       "</div>"
      ],
      "text/plain": [
       "           bic  clusters\n",
       "0  3965.475910         1\n",
       "1  6377.343501         2\n",
       "2  6684.900243         3\n",
       "3  6932.000837         4\n",
       "4  6992.000432         5\n",
       "5  6990.078211         6\n",
       "6  6989.987597         7"
      ]
     },
     "execution_count": 9,
     "metadata": {},
     "output_type": "execute_result"
    }
   ],
   "source": [
    "\n",
    "gm_bic= []\n",
    "gm_score=[]\n",
    "for i in range(1,8):\n",
    "    gm = GaussianMixture(n_components=i,n_init=10,tol=1e-3,max_iter=1000).fit(X)\n",
    "    gm_bic.append(-gm.bic(X))\n",
    "    gm_score.append(gm.score(X))\n",
    "\n",
    "score_sheet = pd.DataFrame()\n",
    "score_sheet['bic'] = gm_bic\n",
    "score_sheet['clusters'] = list(range(1,8))\n",
    "score_sheet"
   ]
  },
  {
   "cell_type": "markdown",
   "metadata": {},
   "source": [
    "From Above 5 is optimal Clusters"
   ]
  },
  {
   "cell_type": "code",
   "execution_count": 11,
   "metadata": {},
   "outputs": [
    {
     "name": "stdout",
     "output_type": "stream",
     "text": [
      "n_components=5,n_init=10,tol=1e-3,max_iter=1000 : 6992.052524383698\n"
     ]
    }
   ],
   "source": [
    "gm = GaussianMixture(n_components=5,n_init=10,tol=1e-3,max_iter=1000).fit(X)\n",
    "print(\"n_components=5,n_init=10,tol=1e-3,max_iter=1000 :\" , '{}'.format(-gm.bic(X) ))"
   ]
  },
  {
   "cell_type": "code",
   "execution_count": 12,
   "metadata": {},
   "outputs": [
    {
     "name": "stdout",
     "output_type": "stream",
     "text": [
      "n_components=5,n_init=10,tol=1e-3,max_iter=1000,,init_params = 'random': 7007.129606841146\n"
     ]
    }
   ],
   "source": [
    "gm = GaussianMixture(n_components=5,n_init=10,tol=1e-3,max_iter=1000,init_params = 'random').fit(X)\n",
    "print(\"n_components=5,n_init=10,tol=1e-3,max_iter=1000,,init_params = 'random':\" , '{}'.format(-gm.bic(X) ) )"
   ]
  },
  {
   "cell_type": "code",
   "execution_count": 13,
   "metadata": {},
   "outputs": [
    {
     "name": "stdout",
     "output_type": "stream",
     "text": [
      "n_components=5,n_init=15,tol=1e-3,max_iter=1000: 7001.392339572566\n"
     ]
    }
   ],
   "source": [
    "gm = GaussianMixture(n_components=5,n_init=15,tol=1e-3,max_iter=1000,init_params = 'random').fit(X)\n",
    "print(\"n_components=5,n_init=15,tol=1e-3,max_iter=1000:\" , '{}'.format(-gm.bic(X) ) )"
   ]
  },
  {
   "cell_type": "code",
   "execution_count": null,
   "metadata": {},
   "outputs": [],
   "source": [
    "\n",
    "\n",
    "\n",
    "\n",
    "gm = GaussianMixture(n_components=5,n_init=15,tol=1e-3,max_iter=1000,init_params = 'random').fit(X)\n",
    "print(\"n_components=5,n_init=15,tol=1e-3,max_iter=1000:\" , '{}'.format(-gm.bic(X) ) )"
   ]
  },
  {
   "cell_type": "code",
   "execution_count": 14,
   "metadata": {},
   "outputs": [
    {
     "name": "stdout",
     "output_type": "stream",
     "text": [
      "BIC for covariance_type full: -6990.931017848265\n",
      "BIC for covariance_type tied: -5613.8843260458425\n",
      "BIC for covariance_type diag: -6966.724615105846\n",
      "BIC for covariance_type spherical: -6369.368192922466\n"
     ]
    }
   ],
   "source": [
    "gm_bic= []\n",
    "covariance_type = ['full', 'tied', 'diag', 'spherical']\n",
    "for i in covariance_type:\n",
    "    gm = GaussianMixture(n_components=5,n_init=10,tol=1e-3,max_iter=1000,covariance_type = i).fit(X)\n",
    "    gm_bic.append(-gm.bic(X))\n",
    "    print(\"BIC for covariance_type {}: {}\".format(i,gm.bic(X)))"
   ]
  },
  {
   "cell_type": "code",
   "execution_count": 15,
   "metadata": {},
   "outputs": [
    {
     "name": "stdout",
     "output_type": "stream",
     "text": [
      "BIC for covariance_type full: -7004.386376263026\n",
      "BIC for covariance_type tied: -3886.914603083965\n",
      "BIC for covariance_type diag: -7022.808556934713\n",
      "BIC for covariance_type spherical: -6471.49224120204\n"
     ]
    }
   ],
   "source": [
    "gm_bic= []\n",
    "covariance_type = ['full', 'tied', 'diag', 'spherical']\n",
    "for i in covariance_type:\n",
    "    gm = GaussianMixture(n_components=5,n_init=10,tol=1e-3,max_iter=1000,covariance_type = i,init_params = 'random').fit(X)\n",
    "    gm_bic.append(-gm.bic(X))\n",
    "    print(\"BIC for covariance_type {}: {}\".format(i,gm.bic(X)))"
   ]
  },
  {
   "cell_type": "code",
   "execution_count": null,
   "metadata": {},
   "outputs": [],
   "source": []
  }
 ],
 "metadata": {
  "kernelspec": {
   "display_name": "Python 3",
   "language": "python",
   "name": "python3"
  },
  "language_info": {
   "codemirror_mode": {
    "name": "ipython",
    "version": 3
   },
   "file_extension": ".py",
   "mimetype": "text/x-python",
   "name": "python",
   "nbconvert_exporter": "python",
   "pygments_lexer": "ipython3",
   "version": "3.8.5"
  }
 },
 "nbformat": 4,
 "nbformat_minor": 4
}
